{
  "cells": [
    {
      "cell_type": "code",
      "execution_count": null,
      "metadata": {
        "id": "_awVi3LrqJVp"
      },
      "outputs": [],
      "source": [
        "# Googleの生成AIパッケージをインストール\n",
        "\n",
        "!pip install -q -U google-generativeai"
      ]
    },
    {
      "cell_type": "code",
      "execution_count": null,
      "metadata": {
        "id": "3PUSHI5grEkT"
      },
      "outputs": [],
      "source": [
        "# AIを使うための設定\n",
        "\n",
        "import google.generativeai as genai\n",
        "from google.colab import userdata\n",
        "\n",
        "GOOGLE_API_KEY=userdata.get('GOOGLE_API_KEY')\n",
        "genai.configure(api_key=\"自分のAPIキーを入力\")"
      ]
    },
    {
      "cell_type": "code",
      "execution_count": null,
      "metadata": {
        "id": "SqdoGColryH0"
      },
      "outputs": [],
      "source": [
        "# Streamlitのインストール\n",
        "\n",
        "!pip install streamlit"
      ]
    },
    {
      "cell_type": "code",
      "execution_count": null,
      "metadata": {
        "id": "XJuT2uVvrzlU"
      },
      "outputs": [],
      "source": [
        "# Localtunnelのインストール\n",
        "\n",
        "!npm install localtunnel"
      ]
    },
    {
      "cell_type": "code",
      "execution_count": null,
      "metadata": {
        "colab": {
          "base_uri": "https://localhost:8080/"
        },
        "id": "nQDrz84fE1wN",
        "outputId": "f47aab38-5d99-4262-87b1-7bc4fa83a17f"
      },
      "outputs": [
        {
          "name": "stdout",
          "output_type": "stream",
          "text": [
            "Overwriting streamlit_test.py\n"
          ]
        }
      ],
      "source": [
        "# おみくじアプリの生成\n",
        "\n",
        "%%writefile streamlit_test.py\n",
        "\n",
        "import streamlit as st\n",
        "import google.generativeai as genai\n",
        "import google.ai.generativelanguage as glm\n",
        "\n",
        "# APIキー設定\n",
        "genai.configure(api_key=\"自分のAPIキーを入力\")\n",
        "\n",
        "st.title(\"かなり具体的なおみくじ\")\n",
        "\n",
        "safety_settings = [\n",
        "    {\n",
        "        \"category\": \"HARM_CATEGORY_HARASSMENT\",\n",
        "        \"threshold\": \"BLOCK_NONE\"\n",
        "    },\n",
        "    {\n",
        "        \"category\": \"HARM_CATEGORY_HATE_SPEECH\",\n",
        "        \"threshold\": \"BLOCK_NONE\"\n",
        "    },\n",
        "    {\n",
        "        \"category\": \"HARM_CATEGORY_SEXUALLY_EXPLICIT\",\n",
        "        \"threshold\": \"BLOCK_NONE\"\n",
        "    },\n",
        "    {\n",
        "        \"category\": \"HARM_CATEGORY_DANGEROUS_CONTENT\",\n",
        "        \"threshold\": \"BLOCK_NONE\"\n",
        "    }\n",
        "]\n",
        "\n",
        "#セッション状態の初期化\n",
        "if \"chat_session\" not in st.session_state :\n",
        "    model = genai. GenerativeModel('gemini-1.5-pro', safety_settings=safety_settings)\n",
        "    st.session_state[\"chat_session\"] = model.start_chat(history=[\n",
        "        glm.Content(role=\"user\", parts=[glm.Part(text=\"あなたは初詣のおみくじです。神様があなたにおみくじを与えるような会話をしてください。\")]),\n",
        "        glm.Content(role=\"model\", parts=[glm.Part(text=\"おぬし、了解。\")])])\n",
        "    st.session_state[\"chat_history\"] = []\n",
        "\n",
        "#チャット履歴を全て表示\n",
        "for message in st.session_state [\"chat_history\"]:\n",
        "    with st.chat_message(message[\"role\"]):\n",
        "        st.markdown(message [\"content\"])\n",
        "\n",
        "#ユーザー入力送信後処理\n",
        "if prompt := st.chat_input(\"どんな運勢が知りたい？\"):\n",
        "\n",
        "    #ユーザの入力を表示する\n",
        "    with st.chat_message(\"user\"):\n",
        "        st.markdown(prompt)\n",
        "\n",
        "    #ユーザの入力をチャット履歴に追加する\n",
        "    st.session_state[\"chat_history\"].append({\"role\": \"user\", \"content\": prompt})\n",
        "\n",
        "    # Genimi Pro にメッセージ送信\n",
        "    response = st.session_state [\"chat_session\"].send_message(prompt)\n",
        "\n",
        "    # Genimi Proのレスポンス表示\n",
        "    with st.chat_message(\"assistant\"):\n",
        "        st.markdown(response.text)\n",
        "\n",
        "    # Genimi Proのレスポンスをチャット履歴に追加する\n",
        "    st.session_state[\"chat_history\"].append({\"role\": \"assistant\", \"content\": response.text})"
      ]
    },
    {
      "cell_type": "code",
      "execution_count": 17,
      "metadata": {
        "colab": {
          "base_uri": "https://localhost:8080/"
        },
        "id": "q8moR6HdE8ZW",
        "outputId": "26eefc87-d0be-4f49-ad1c-1beb14f6da2f"
      },
      "outputs": [
        {
          "output_type": "stream",
          "name": "stdout",
          "text": [
            "\n",
            "Collecting usage statistics. To deactivate, set browser.gatherUsageStats to false.\n",
            "\u001b[0m\n",
            "\u001b[0m\n",
            "\u001b[34m\u001b[1m  You can now view your Streamlit app in your browser.\u001b[0m\n",
            "\u001b[0m\n",
            "\u001b[34m  Local URL: \u001b[0m\u001b[1mhttp://localhost:8501\u001b[0m\n",
            "\u001b[34m  Network URL: \u001b[0m\u001b[1mhttp://172.28.0.12:8501\u001b[0m\n",
            "\u001b[34m  External URL: \u001b[0m\u001b[1mhttp://34.172.4.227:8501\u001b[0m\n",
            "\u001b[0m\n",
            "\u001b[1G\u001b[0K⠙\u001b[1G\u001b[0Kyour url is: https://lovely-mails-care.loca.lt\n",
            "\u001b[34m  Stopping...\u001b[0m\n",
            "^C\n"
          ]
        }
      ],
      "source": [
        "# アプリの実行\n",
        "\n",
        "!streamlit run streamlit_test.py & sleep 5 && npx localtunnel --port 8501"
      ]
    }
  ],
  "metadata": {
    "colab": {
      "provenance": []
    },
    "kernelspec": {
      "display_name": "Python 3",
      "name": "python3"
    },
    "language_info": {
      "name": "python"
    }
  },
  "nbformat": 4,
  "nbformat_minor": 0
}